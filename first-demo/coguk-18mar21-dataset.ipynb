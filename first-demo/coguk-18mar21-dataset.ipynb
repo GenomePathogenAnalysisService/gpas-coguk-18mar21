{
 "cells": [
  {
   "cell_type": "code",
   "execution_count": 1,
   "id": "assured-twist",
   "metadata": {},
   "outputs": [],
   "source": [
    "import pandas"
   ]
  },
  {
   "cell_type": "markdown",
   "id": "comic-corner",
   "metadata": {},
   "source": [
    "Let's load in the dataset using `pandas`"
   ]
  },
  {
   "cell_type": "code",
   "execution_count": 2,
   "id": "fifty-buddy",
   "metadata": {},
   "outputs": [
    {
     "data": {
      "text/html": [
       "<div>\n",
       "<style scoped>\n",
       "    .dataframe tbody tr th:only-of-type {\n",
       "        vertical-align: middle;\n",
       "    }\n",
       "\n",
       "    .dataframe tbody tr th {\n",
       "        vertical-align: top;\n",
       "    }\n",
       "\n",
       "    .dataframe thead th {\n",
       "        text-align: right;\n",
       "    }\n",
       "</style>\n",
       "<table border=\"1\" class=\"dataframe\">\n",
       "  <thead>\n",
       "    <tr style=\"text-align: right;\">\n",
       "      <th></th>\n",
       "      <th>run_accession</th>\n",
       "      <th>cogid</th>\n",
       "      <th>sequence_name</th>\n",
       "      <th>country</th>\n",
       "      <th>adm1</th>\n",
       "      <th>is_pillar_2</th>\n",
       "      <th>sample_date</th>\n",
       "      <th>epi_week</th>\n",
       "      <th>lineage</th>\n",
       "      <th>lineages_version</th>\n",
       "      <th>...</th>\n",
       "      <th>study_accession</th>\n",
       "      <th>sample_accession</th>\n",
       "      <th>secondary_sample_accession</th>\n",
       "      <th>experiment_accession</th>\n",
       "      <th>submitted_ftp</th>\n",
       "      <th>fastq_ftp</th>\n",
       "      <th>HAS_UNPAIRED_READ_FILE</th>\n",
       "      <th>ASSUMED_ILLUMINA</th>\n",
       "      <th>NUMBER_FASTQ_FILES</th>\n",
       "      <th>bucket</th>\n",
       "    </tr>\n",
       "  </thead>\n",
       "  <tbody>\n",
       "    <tr>\n",
       "      <th>0</th>\n",
       "      <td>ERR5874574</td>\n",
       "      <td>PHWC-PYREIM</td>\n",
       "      <td>Wales/PHWC-PYREIM/2021</td>\n",
       "      <td>UK</td>\n",
       "      <td>UK-WLS</td>\n",
       "      <td>N</td>\n",
       "      <td>2021-03-18</td>\n",
       "      <td>64</td>\n",
       "      <td>B.1.1.7</td>\n",
       "      <td>PLEARN-v1.2.12</td>\n",
       "      <td>...</td>\n",
       "      <td>PRJEB37886</td>\n",
       "      <td>SAMEA8685016</td>\n",
       "      <td>ERS6369522</td>\n",
       "      <td>ERX5518105</td>\n",
       "      <td>ftp.sra.ebi.ac.uk/vol1/run/ERR587/ERR5874574/P...</td>\n",
       "      <td>ftp.sra.ebi.ac.uk/vol1/fastq/ERR587/004/ERR587...</td>\n",
       "      <td>True</td>\n",
       "      <td>True</td>\n",
       "      <td>3</td>\n",
       "      <td>demo_samples</td>\n",
       "    </tr>\n",
       "    <tr>\n",
       "      <th>1</th>\n",
       "      <td>ERR5874678</td>\n",
       "      <td>PHWC-PYREWP</td>\n",
       "      <td>Wales/PHWC-PYREWP/2021</td>\n",
       "      <td>UK</td>\n",
       "      <td>UK-WLS</td>\n",
       "      <td>N</td>\n",
       "      <td>2021-03-18</td>\n",
       "      <td>64</td>\n",
       "      <td>B.1.1.7</td>\n",
       "      <td>PLEARN-v1.2.12</td>\n",
       "      <td>...</td>\n",
       "      <td>PRJEB37886</td>\n",
       "      <td>SAMEA8685119</td>\n",
       "      <td>ERS6369625</td>\n",
       "      <td>ERX5518208</td>\n",
       "      <td>ftp.sra.ebi.ac.uk/vol1/run/ERR587/ERR5874678/P...</td>\n",
       "      <td>ftp.sra.ebi.ac.uk/vol1/fastq/ERR587/008/ERR587...</td>\n",
       "      <td>True</td>\n",
       "      <td>True</td>\n",
       "      <td>3</td>\n",
       "      <td>demo_samples</td>\n",
       "    </tr>\n",
       "    <tr>\n",
       "      <th>2</th>\n",
       "      <td>ERR5875498</td>\n",
       "      <td>PHWC-PYREUX</td>\n",
       "      <td>Wales/PHWC-PYREUX/2021</td>\n",
       "      <td>UK</td>\n",
       "      <td>UK-WLS</td>\n",
       "      <td>N</td>\n",
       "      <td>2021-03-18</td>\n",
       "      <td>64</td>\n",
       "      <td>B.1.1.7</td>\n",
       "      <td>PLEARN-v1.2.12</td>\n",
       "      <td>...</td>\n",
       "      <td>PRJEB37886</td>\n",
       "      <td>SAMEA8685944</td>\n",
       "      <td>SRS8946681</td>\n",
       "      <td>ERX5519030</td>\n",
       "      <td>ftp.sra.ebi.ac.uk/vol1/run/ERR587/ERR5875498/P...</td>\n",
       "      <td>ftp.sra.ebi.ac.uk/vol1/fastq/ERR587/008/ERR587...</td>\n",
       "      <td>True</td>\n",
       "      <td>True</td>\n",
       "      <td>3</td>\n",
       "      <td>demo_samples</td>\n",
       "    </tr>\n",
       "  </tbody>\n",
       "</table>\n",
       "<p>3 rows × 38 columns</p>\n",
       "</div>"
      ],
      "text/plain": [
       "  run_accession        cogid           sequence_name country    adm1  \\\n",
       "0    ERR5874574  PHWC-PYREIM  Wales/PHWC-PYREIM/2021      UK  UK-WLS   \n",
       "1    ERR5874678  PHWC-PYREWP  Wales/PHWC-PYREWP/2021      UK  UK-WLS   \n",
       "2    ERR5875498  PHWC-PYREUX  Wales/PHWC-PYREUX/2021      UK  UK-WLS   \n",
       "\n",
       "  is_pillar_2 sample_date  epi_week  lineage lineages_version  ...  \\\n",
       "0           N  2021-03-18        64  B.1.1.7   PLEARN-v1.2.12  ...   \n",
       "1           N  2021-03-18        64  B.1.1.7   PLEARN-v1.2.12  ...   \n",
       "2           N  2021-03-18        64  B.1.1.7   PLEARN-v1.2.12  ...   \n",
       "\n",
       "   study_accession  sample_accession secondary_sample_accession  \\\n",
       "0       PRJEB37886      SAMEA8685016                 ERS6369522   \n",
       "1       PRJEB37886      SAMEA8685119                 ERS6369625   \n",
       "2       PRJEB37886      SAMEA8685944                 SRS8946681   \n",
       "\n",
       "   experiment_accession                                      submitted_ftp  \\\n",
       "0            ERX5518105  ftp.sra.ebi.ac.uk/vol1/run/ERR587/ERR5874574/P...   \n",
       "1            ERX5518208  ftp.sra.ebi.ac.uk/vol1/run/ERR587/ERR5874678/P...   \n",
       "2            ERX5519030  ftp.sra.ebi.ac.uk/vol1/run/ERR587/ERR5875498/P...   \n",
       "\n",
       "                                           fastq_ftp HAS_UNPAIRED_READ_FILE  \\\n",
       "0  ftp.sra.ebi.ac.uk/vol1/fastq/ERR587/004/ERR587...                   True   \n",
       "1  ftp.sra.ebi.ac.uk/vol1/fastq/ERR587/008/ERR587...                   True   \n",
       "2  ftp.sra.ebi.ac.uk/vol1/fastq/ERR587/008/ERR587...                   True   \n",
       "\n",
       "  ASSUMED_ILLUMINA NUMBER_FASTQ_FILES        bucket  \n",
       "0             True                  3  demo_samples  \n",
       "1             True                  3  demo_samples  \n",
       "2             True                  3  demo_samples  \n",
       "\n",
       "[3 rows x 38 columns]"
      ]
     },
     "execution_count": 2,
     "metadata": {},
     "output_type": "execute_result"
    }
   ],
   "source": [
    "df=pandas.read_csv('coguk-18mar21-dataset.csv')\n",
    "df[:3]"
   ]
  },
  {
   "cell_type": "markdown",
   "id": "immediate-pencil",
   "metadata": {},
   "source": [
    "All files have 1,2 or 3 `fastq,gz` files"
   ]
  },
  {
   "cell_type": "code",
   "execution_count": 3,
   "id": "figured-comparative",
   "metadata": {},
   "outputs": [
    {
     "data": {
      "text/plain": [
       "1      94\n",
       "2      10\n",
       "3    2002\n",
       "Name: NUMBER_FASTQ_FILES, dtype: int64"
      ]
     },
     "execution_count": 3,
     "metadata": {},
     "output_type": "execute_result"
    }
   ],
   "source": [
    "df.NUMBER_FASTQ_FILES.value_counts().sort_index()"
   ]
  },
  {
   "cell_type": "markdown",
   "id": "separate-simpson",
   "metadata": {},
   "source": [
    "..and the majority are the alpha variant"
   ]
  },
  {
   "cell_type": "code",
   "execution_count": 4,
   "id": "velvet-mineral",
   "metadata": {},
   "outputs": [
    {
     "data": {
      "text/plain": [
       "B.1.1.7      2068\n",
       "B.1.177         6\n",
       "B.1.36.31       5\n",
       "B.1.351         4\n",
       "B.1.351.3       4\n",
       "C.36.3          4\n",
       "A.29            3\n",
       "B.1.525         3\n",
       "B.1.617.2       2\n",
       "B.1.617.1       1\n",
       "B.1.36          1\n",
       "B.1.153         1\n",
       "B.1.1           1\n",
       "P.1             1\n",
       "C.36            1\n",
       "XA              1\n",
       "Name: lineage, dtype: int64"
      ]
     },
     "execution_count": 4,
     "metadata": {},
     "output_type": "execute_result"
    }
   ],
   "source": [
    "df.lineage.value_counts()"
   ]
  },
  {
   "cell_type": "markdown",
   "id": "killing-rental",
   "metadata": {},
   "source": [
    "A sample is assumed to be from an Illumina machine if it has both `foo_1.fastq.gz` and `foo_2.fastq.gz` files."
   ]
  },
  {
   "cell_type": "code",
   "execution_count": 5,
   "id": "lyric-train",
   "metadata": {},
   "outputs": [
    {
     "name": "stdout",
     "output_type": "stream",
     "text": [
      "There are 2012 samples assumed to be from Illumina\n"
     ]
    }
   ],
   "source": [
    "illumina_samples=df.loc[df.ASSUMED_ILLUMINA]\n",
    "\n",
    "print(\"There are \"+str(len(illumina_samples))+\" samples assumed to be from Illumina\")\n",
    "\n",
    "illumina_samples[['bucket','run_accession']].to_csv('coguk-18mar21-dataset-illumina.csv',index=False,header=False)"
   ]
  },
  {
   "cell_type": "markdown",
   "id": "psychological-julian",
   "metadata": {},
   "source": [
    "..and the other's are assumed to be ONT "
   ]
  },
  {
   "cell_type": "code",
   "execution_count": 6,
   "id": "frank-necklace",
   "metadata": {},
   "outputs": [
    {
     "name": "stdout",
     "output_type": "stream",
     "text": [
      "There are 94 samples assumed to be from ONT\n"
     ]
    }
   ],
   "source": [
    "ont_samples=df.loc[~df.ASSUMED_ILLUMINA]\n",
    "\n",
    "print(\"There are \"+str(len(ont_samples))+\" samples assumed to be from ONT\")\n",
    "\n",
    "ont_samples[['bucket','run_accession']].to_csv('coguk-18mar21-dataset-ont.csv',index=False,header=False)"
   ]
  },
  {
   "cell_type": "code",
   "execution_count": null,
   "id": "humanitarian-partition",
   "metadata": {},
   "outputs": [],
   "source": []
  }
 ],
 "metadata": {
  "kernelspec": {
   "display_name": "Python 3",
   "language": "python",
   "name": "python3"
  },
  "language_info": {
   "codemirror_mode": {
    "name": "ipython",
    "version": 3
   },
   "file_extension": ".py",
   "mimetype": "text/x-python",
   "name": "python",
   "nbconvert_exporter": "python",
   "pygments_lexer": "ipython3",
   "version": "3.8.8"
  }
 },
 "nbformat": 4,
 "nbformat_minor": 5
}

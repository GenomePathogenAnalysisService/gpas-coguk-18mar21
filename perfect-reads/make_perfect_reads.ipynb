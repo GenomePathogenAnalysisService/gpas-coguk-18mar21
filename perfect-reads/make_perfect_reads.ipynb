{
 "cells": [
  {
   "cell_type": "markdown",
   "id": "56df7e84-0170-47a1-b56c-41822bb6564b",
   "metadata": {},
   "source": [
    "I'm going to use `gumpy` in a few places, but that is because I am used to it; we can easily use more standard tools for most functions"
   ]
  },
  {
   "cell_type": "code",
   "execution_count": 18,
   "id": "763aa8cf-a02f-44ed-9ad5-e1801b45bafe",
   "metadata": {},
   "outputs": [],
   "source": [
    "import gumpy, copy, numpy, yaml, json, subprocess, os\n",
    "\n",
    "from tqdm import tqdm"
   ]
  },
  {
   "cell_type": "code",
   "execution_count": 2,
   "id": "96924038-e17c-4ada-a5fa-c02dd997bddf",
   "metadata": {},
   "outputs": [
    {
     "data": {
      "text/plain": [
       "MN908947\n",
       "MN908947.3\n",
       "Severe acute respiratory syndrome coronavirus 2 isolate Wuhan-Hu-1, complete genome\n",
       "29903 bases\n",
       "attaaa...aaaaaa\n",
       "metadata for all genes/loci have been included"
      ]
     },
     "execution_count": 2,
     "metadata": {},
     "output_type": "execute_result"
    }
   ],
   "source": [
    "covid_reference=gumpy.Genome('MN908947.3.gbk')\n",
    "covid_reference"
   ]
  },
  {
   "cell_type": "code",
   "execution_count": 4,
   "id": "85a81442-1af1-4aef-9620-37b8670f9ec9",
   "metadata": {},
   "outputs": [],
   "source": [
    "covid_reference.save_fasta('MN908947.fasta',overwrite_existing=True,description='MN908947')"
   ]
  },
  {
   "cell_type": "markdown",
   "id": "279d1173-70b5-4951-b4b7-4735dff21165",
   "metadata": {},
   "source": [
    "## Using `samtools` and `pyfastaq` to produce a perfect FASTQ file"
   ]
  },
  {
   "cell_type": "code",
   "execution_count": 6,
   "id": "5d5b0c81-a02b-4e0e-ac08-5e7bc7023392",
   "metadata": {},
   "outputs": [],
   "source": [
    "with open(\"covid-artic-v3.json\") as f:                                                                                 \n",
    "    json_data = json.load(f)        "
   ]
  },
  {
   "cell_type": "markdown",
   "id": "4c6d1fe6-f8ab-4240-8f3a-939170332631",
   "metadata": {},
   "source": [
    "Run it once to generate an index"
   ]
  },
  {
   "cell_type": "code",
   "execution_count": 9,
   "id": "c47812e1-1e46-41b8-94b4-cf89df210ce8",
   "metadata": {},
   "outputs": [
    {
     "name": "stderr",
     "output_type": "stream",
     "text": [
      "100%|███████████████████████████████████████████| 98/98 [00:40<00:00,  2.44it/s]\n"
     ]
    }
   ],
   "source": [
    "ref_fasta = \"MN908947.fasta\"\n",
    "tmp_ref = \"MN908947.tmp\"\n",
    "reads_out = \"MN908947.fastq\"\n",
    "\n",
    "subprocess.check_output(f\"samtools faidx {ref_fasta}\", shell=True)\n",
    "\n",
    "if os.path.isfile(reads_out):\n",
    "    os.unlink(reads_out) \n",
    "    \n",
    "for name,d in tqdm(json_data['amplicons'].items()):\n",
    "\n",
    "    # coords are 0-based\n",
    "    start, end = d[\"start\"] + 1, d[\"end\"] + 1                                                                                               \n",
    "    \n",
    "    subprocess.check_output(f\"samtools faidx {ref_fasta} MN908947:{start}-{end} > {tmp_ref}\", shell=True) \n",
    "    \n",
    "    # the arguments below are \n",
    "    #  - Mean insert size of read pairs\n",
    "    #  - Standard devation of insert size\n",
    "    #  - Mean coverage of the reads\n",
    "    #  - Length of each read\n",
    "    \n",
    "    subprocess.check_output(f\"fastaq to_perfect_reads {tmp_ref} - 300 10 1000 175 >> {reads_out}\", shell=True)\n",
    "\n",
    "os.unlink(tmp_ref) \n",
    "   "
   ]
  },
  {
   "cell_type": "code",
   "execution_count": 10,
   "id": "9dcb1374-793d-40b6-a2ad-f7e48f1e49aa",
   "metadata": {},
   "outputs": [
    {
     "data": {
      "text/plain": [
       "b''"
      ]
     },
     "execution_count": 10,
     "metadata": {},
     "output_type": "execute_result"
    }
   ],
   "source": [
    "fastq1 = 'MN908947_1.fastq'\n",
    "fastq2 = 'MN908947_2.fastq'\n",
    "subprocess.check_output(f\"fastaq deinterleave {reads_out} {fastq1} {fastq2}\", shell=True)"
   ]
  },
  {
   "cell_type": "markdown",
   "id": "422725f6-7d71-4fb4-96ed-43809e1c147d",
   "metadata": {},
   "source": [
    "## Parsing `phe-genomics/variant_definitions` which is used by `aln2type`"
   ]
  },
  {
   "cell_type": "markdown",
   "id": "561bfe8e-a60d-41f4-84a6-d5c1d78a0405",
   "metadata": {},
   "source": [
    "This is the definition file for Delta"
   ]
  },
  {
   "cell_type": "code",
   "execution_count": 12,
   "id": "9f4b0512-2992-43b2-8618-a66b2091b456",
   "metadata": {},
   "outputs": [],
   "source": [
    "with open('empathy-serve.yml') as f:\n",
    "    variant_definitions=yaml.safe_load(f)"
   ]
  },
  {
   "cell_type": "markdown",
   "id": "1c85f4f2-5672-499a-b81a-c832bccbb9b1",
   "metadata": {},
   "source": [
    "Delta is a bit easier as this definition only contains SNPs"
   ]
  },
  {
   "cell_type": "code",
   "execution_count": 13,
   "id": "b64e7852-d2e8-4b01-9ba0-72c6cf1fdc16",
   "metadata": {},
   "outputs": [],
   "source": [
    "for i in variant_definitions['variants']:\n",
    "    assert i['type']=='SNP' "
   ]
  },
  {
   "cell_type": "markdown",
   "id": "b6922549-f17b-4446-8532-1817b5466a03",
   "metadata": {},
   "source": [
    "Because there are no INDELS we could simply use a `str` but I'm going to use `gumpy` (since it would also cope with indels and is more explicit)"
   ]
  },
  {
   "cell_type": "code",
   "execution_count": 14,
   "id": "48f12aac-928f-43f7-a9a1-018319f28727",
   "metadata": {},
   "outputs": [
    {
     "name": "stderr",
     "output_type": "stream",
     "text": [
      "100%|███████████████████████████████████████████| 8/8 [00:00<00:00, 5537.03it/s]\n"
     ]
    },
    {
     "data": {
      "text/plain": [
       "False"
      ]
     },
     "execution_count": 14,
     "metadata": {},
     "output_type": "execute_result"
    }
   ],
   "source": [
    "delta_variant=copy.deepcopy(covid_reference)\n",
    "\n",
    "for i in tqdm(variant_definitions['variants']):\n",
    "    \n",
    "    # build the mask to isolate the nucleotide\n",
    "    mask=delta_variant.nucleotide_index==i['one-based-reference-position']\n",
    "    \n",
    "    # check the definition agrees with the reference sequence\n",
    "    assert delta_variant.nucleotide_sequence[mask]==i['reference-base'].lower()\n",
    "    \n",
    "    # only now mutate the base\n",
    "    delta_variant.nucleotide_sequence[mask]=i['variant-base']\n",
    "    \n",
    "# check if they are different\n",
    "delta_variant==covid_reference    "
   ]
  },
  {
   "cell_type": "code",
   "execution_count": 15,
   "id": "4aaf2aa8-a3a7-4e98-8495-6c4bafe6689e",
   "metadata": {},
   "outputs": [],
   "source": [
    "delta_variant.save_fasta('Delta.fasta',\\\n",
    "                         fixed_length=False,\\\n",
    "                         overwrite_existing=True,\\\n",
    "                         description='Delta')"
   ]
  },
  {
   "cell_type": "code",
   "execution_count": 16,
   "id": "c881a561-8923-42ab-ac07-5d51121db95e",
   "metadata": {},
   "outputs": [
    {
     "name": "stderr",
     "output_type": "stream",
     "text": [
      "100%|███████████████████████████████████████████| 98/98 [00:40<00:00,  2.40it/s]\n"
     ]
    }
   ],
   "source": [
    "ref_fasta = \"Delta.fasta\"\n",
    "tmp_ref = \"Delta.ref\"\n",
    "reads_out = \"Delta.fastq\"\n",
    "\n",
    "subprocess.check_output(f\"samtools faidx {ref_fasta}\", shell=True)\n",
    "\n",
    "if os.path.isfile(reads_out):\n",
    "    os.unlink(reads_out) \n",
    "\n",
    "for name,d in tqdm(json_data['amplicons'].items()):\n",
    "\n",
    "    # coords are 0-based\n",
    "    start, end = d[\"start\"] + 1, d[\"end\"] + 1                                                                                               \n",
    "    \n",
    "    subprocess.check_output(f\"samtools faidx {ref_fasta} Delta:{start}-{end} > {tmp_ref}\", shell=True) \n",
    "    \n",
    "    # the arguments below are \n",
    "    #  - Mean insert size of read pairs\n",
    "    #  - Standard devation of insert size\n",
    "    #  - Mean coverage of the reads\n",
    "    #  - Length of each read\n",
    "    \n",
    "    subprocess.check_output(f\"fastaq to_perfect_reads {tmp_ref} - 300 10 1000 175 >> {reads_out}\", shell=True)\n",
    "\n",
    "os.unlink(tmp_ref)  \n",
    "    "
   ]
  },
  {
   "cell_type": "code",
   "execution_count": 17,
   "id": "5c94df03-6c67-488a-bce4-2f4028965f93",
   "metadata": {},
   "outputs": [
    {
     "data": {
      "text/plain": [
       "b''"
      ]
     },
     "execution_count": 17,
     "metadata": {},
     "output_type": "execute_result"
    }
   ],
   "source": [
    "fastq1 = 'Delta_1.fastq'\n",
    "fastq2 = 'Delta_2.fastq'\n",
    "subprocess.check_output(f\"fastaq deinterleave {reads_out} {fastq1} {fastq2}\", shell=True)"
   ]
  },
  {
   "cell_type": "code",
   "execution_count": null,
   "id": "607c1367-f3fc-4ca8-8563-7ef3e024bc70",
   "metadata": {},
   "outputs": [],
   "source": []
  }
 ],
 "metadata": {
  "kernelspec": {
   "display_name": "Python 3 (ipykernel)",
   "language": "python",
   "name": "python3"
  },
  "language_info": {
   "codemirror_mode": {
    "name": "ipython",
    "version": 3
   },
   "file_extension": ".py",
   "mimetype": "text/x-python",
   "name": "python",
   "nbconvert_exporter": "python",
   "pygments_lexer": "ipython3",
   "version": "3.8.12"
  }
 },
 "nbformat": 4,
 "nbformat_minor": 5
}

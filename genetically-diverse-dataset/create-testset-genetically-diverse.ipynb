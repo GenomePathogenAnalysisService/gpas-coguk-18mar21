{
 "cells": [
  {
   "cell_type": "code",
   "execution_count": 1,
   "id": "dominant-guest",
   "metadata": {},
   "outputs": [],
   "source": [
    "import pandas, copy\n",
    "\n",
    "from tqdm import tqdm\n",
    "\n",
    "pandas.options.display.max_columns=999"
   ]
  },
  {
   "cell_type": "code",
   "execution_count": 2,
   "id": "julian-france",
   "metadata": {},
   "outputs": [
    {
     "name": "stderr",
     "output_type": "stream",
     "text": [
      "/opt/local/Library/Frameworks/Python.framework/Versions/3.8/lib/python3.8/site-packages/IPython/core/interactiveshell.py:3165: DtypeWarning: Columns (11) have mixed types.Specify dtype option on import or set low_memory=False.\n",
      "  has_raised = await self.run_ast_nodes(code_ast.body, cell_name,\n"
     ]
    }
   ],
   "source": [
    "cog=pandas.read_csv('../create-coguk-dataset/cog_dataset-20210624.csv.gz')"
   ]
  },
  {
   "cell_type": "markdown",
   "id": "electric-airplane",
   "metadata": {},
   "source": [
    "# Exploring the dataset"
   ]
  },
  {
   "cell_type": "code",
   "execution_count": 3,
   "id": "limiting-retail",
   "metadata": {},
   "outputs": [
    {
     "data": {
      "text/html": [
       "<div>\n",
       "<style scoped>\n",
       "    .dataframe tbody tr th:only-of-type {\n",
       "        vertical-align: middle;\n",
       "    }\n",
       "\n",
       "    .dataframe tbody tr th {\n",
       "        vertical-align: top;\n",
       "    }\n",
       "\n",
       "    .dataframe thead th {\n",
       "        text-align: right;\n",
       "    }\n",
       "</style>\n",
       "<table border=\"1\" class=\"dataframe\">\n",
       "  <thead>\n",
       "    <tr style=\"text-align: right;\">\n",
       "      <th></th>\n",
       "      <th>cogid</th>\n",
       "      <th>sequence_name</th>\n",
       "      <th>cog_country</th>\n",
       "      <th>adm1</th>\n",
       "      <th>is_pillar_2</th>\n",
       "      <th>sample_date</th>\n",
       "      <th>epi_week</th>\n",
       "      <th>lineage</th>\n",
       "      <th>lineages_version</th>\n",
       "      <th>lineage_conflict</th>\n",
       "      <th>lineage_ambiguity_score</th>\n",
       "      <th>scorpio_call</th>\n",
       "      <th>scorpio_support</th>\n",
       "      <th>scorpio_conflict</th>\n",
       "      <th>t1001i</th>\n",
       "      <th>n501y</th>\n",
       "      <th>d614g</th>\n",
       "      <th>del_21765_6</th>\n",
       "      <th>y453f</th>\n",
       "      <th>del_1605_3</th>\n",
       "      <th>a222v</th>\n",
       "      <th>n439k</th>\n",
       "      <th>mutations</th>\n",
       "      <th>p681h</th>\n",
       "      <th>q27stop</th>\n",
       "      <th>e484k</th>\n",
       "      <th>p323l</th>\n",
       "      <th>study_accession</th>\n",
       "      <th>sample_accession</th>\n",
       "      <th>secondary_sample_accession</th>\n",
       "      <th>experiment_accession</th>\n",
       "      <th>run_accession</th>\n",
       "      <th>instrument_platform</th>\n",
       "      <th>ena_country</th>\n",
       "      <th>submitted_ftp</th>\n",
       "      <th>read_count</th>\n",
       "      <th>base_count</th>\n",
       "    </tr>\n",
       "  </thead>\n",
       "  <tbody>\n",
       "    <tr>\n",
       "      <th>0</th>\n",
       "      <td>PHWC-PYFPIR</td>\n",
       "      <td>Wales/PHWC-PYFPIR/2021</td>\n",
       "      <td>UK</td>\n",
       "      <td>UK-WLS</td>\n",
       "      <td>N</td>\n",
       "      <td>2021-05-19</td>\n",
       "      <td>73</td>\n",
       "      <td>None</td>\n",
       "      <td>PANGO-v1.2.13</td>\n",
       "      <td>NaN</td>\n",
       "      <td>NaN</td>\n",
       "      <td>NaN</td>\n",
       "      <td>NaN</td>\n",
       "      <td>NaN</td>\n",
       "      <td>I</td>\n",
       "      <td>Y</td>\n",
       "      <td>G</td>\n",
       "      <td>del</td>\n",
       "      <td>Y</td>\n",
       "      <td>ref</td>\n",
       "      <td>A</td>\n",
       "      <td>N</td>\n",
       "      <td>synSNP:C913T|synSNP:C1288T|synSNP:C3037T|orf1a...</td>\n",
       "      <td>H</td>\n",
       "      <td>*</td>\n",
       "      <td>E</td>\n",
       "      <td>L</td>\n",
       "      <td>PRJEB37886</td>\n",
       "      <td>SAMEA9132940</td>\n",
       "      <td>ERS6847341</td>\n",
       "      <td>ERX5658438</td>\n",
       "      <td>ERR6019078</td>\n",
       "      <td>ILLUMINA</td>\n",
       "      <td>United Kingdom</td>\n",
       "      <td>ftp.sra.ebi.ac.uk/vol1/run/ERR601/ERR6019078/P...</td>\n",
       "      <td>96557.0</td>\n",
       "      <td>13320734.0</td>\n",
       "    </tr>\n",
       "    <tr>\n",
       "      <th>1</th>\n",
       "      <td>HSLL-160F062</td>\n",
       "      <td>England/HSLL-160F062/2021</td>\n",
       "      <td>UK</td>\n",
       "      <td>UK-ENG</td>\n",
       "      <td>Y</td>\n",
       "      <td>2021-06-03</td>\n",
       "      <td>75</td>\n",
       "      <td>B.1.617.2</td>\n",
       "      <td>PLEARN-v1.2.13</td>\n",
       "      <td>NaN</td>\n",
       "      <td>NaN</td>\n",
       "      <td>Delta (B.1.617.2-like)</td>\n",
       "      <td>1.0</td>\n",
       "      <td>0.0</td>\n",
       "      <td>T</td>\n",
       "      <td>N</td>\n",
       "      <td>G</td>\n",
       "      <td>ref</td>\n",
       "      <td>Y</td>\n",
       "      <td>ref</td>\n",
       "      <td>A</td>\n",
       "      <td>N</td>\n",
       "      <td>synSNP:C3037T|orf1ab:A1306S|orf1ab:P2046L|orf1...</td>\n",
       "      <td>R</td>\n",
       "      <td>Q</td>\n",
       "      <td>E</td>\n",
       "      <td>L</td>\n",
       "      <td>PRJEB37886</td>\n",
       "      <td>SAMEA9148402</td>\n",
       "      <td>ERS6873131</td>\n",
       "      <td>ERX5686029</td>\n",
       "      <td>ERR6047046</td>\n",
       "      <td>ILLUMINA</td>\n",
       "      <td>United Kingdom</td>\n",
       "      <td>ftp.sra.ebi.ac.uk/vol1/run/ERR604/ERR6047046/H...</td>\n",
       "      <td>3430083.0</td>\n",
       "      <td>721453740.0</td>\n",
       "    </tr>\n",
       "    <tr>\n",
       "      <th>2</th>\n",
       "      <td>QEUH-160DE00</td>\n",
       "      <td>Scotland/QEUH-160DE00/2021</td>\n",
       "      <td>UK</td>\n",
       "      <td>UK-SCT</td>\n",
       "      <td>Y</td>\n",
       "      <td>2021-06-03</td>\n",
       "      <td>75</td>\n",
       "      <td>B.1.617.2</td>\n",
       "      <td>PLEARN-v1.2.13</td>\n",
       "      <td>NaN</td>\n",
       "      <td>NaN</td>\n",
       "      <td>Delta (B.1.617.2-like)</td>\n",
       "      <td>1.0</td>\n",
       "      <td>0.0</td>\n",
       "      <td>T</td>\n",
       "      <td>N</td>\n",
       "      <td>G</td>\n",
       "      <td>X</td>\n",
       "      <td>Y</td>\n",
       "      <td>ref</td>\n",
       "      <td>A</td>\n",
       "      <td>N</td>\n",
       "      <td>orf1ab:S443F|synSNP:C3037T|orf1ab:A1306S|synSN...</td>\n",
       "      <td>R</td>\n",
       "      <td>Q</td>\n",
       "      <td>E</td>\n",
       "      <td>L</td>\n",
       "      <td>PRJEB37886</td>\n",
       "      <td>SAMEA9202513</td>\n",
       "      <td>ERS6927129</td>\n",
       "      <td>ERX5695457</td>\n",
       "      <td>ERR6056590</td>\n",
       "      <td>ILLUMINA</td>\n",
       "      <td>United Kingdom</td>\n",
       "      <td>ftp.sra.ebi.ac.uk/vol1/run/ERR605/ERR6056590/Q...</td>\n",
       "      <td>1343069.0</td>\n",
       "      <td>282390969.0</td>\n",
       "    </tr>\n",
       "  </tbody>\n",
       "</table>\n",
       "</div>"
      ],
      "text/plain": [
       "          cogid               sequence_name cog_country    adm1 is_pillar_2  \\\n",
       "0   PHWC-PYFPIR      Wales/PHWC-PYFPIR/2021          UK  UK-WLS           N   \n",
       "1  HSLL-160F062   England/HSLL-160F062/2021          UK  UK-ENG           Y   \n",
       "2  QEUH-160DE00  Scotland/QEUH-160DE00/2021          UK  UK-SCT           Y   \n",
       "\n",
       "  sample_date  epi_week    lineage lineages_version  lineage_conflict  \\\n",
       "0  2021-05-19        73       None    PANGO-v1.2.13               NaN   \n",
       "1  2021-06-03        75  B.1.617.2   PLEARN-v1.2.13               NaN   \n",
       "2  2021-06-03        75  B.1.617.2   PLEARN-v1.2.13               NaN   \n",
       "\n",
       "   lineage_ambiguity_score            scorpio_call  scorpio_support  \\\n",
       "0                      NaN                     NaN              NaN   \n",
       "1                      NaN  Delta (B.1.617.2-like)              1.0   \n",
       "2                      NaN  Delta (B.1.617.2-like)              1.0   \n",
       "\n",
       "   scorpio_conflict t1001i n501y d614g del_21765_6 y453f del_1605_3 a222v  \\\n",
       "0               NaN      I     Y     G         del     Y        ref     A   \n",
       "1               0.0      T     N     G         ref     Y        ref     A   \n",
       "2               0.0      T     N     G           X     Y        ref     A   \n",
       "\n",
       "  n439k                                          mutations p681h q27stop  \\\n",
       "0     N  synSNP:C913T|synSNP:C1288T|synSNP:C3037T|orf1a...     H       *   \n",
       "1     N  synSNP:C3037T|orf1ab:A1306S|orf1ab:P2046L|orf1...     R       Q   \n",
       "2     N  orf1ab:S443F|synSNP:C3037T|orf1ab:A1306S|synSN...     R       Q   \n",
       "\n",
       "  e484k p323l study_accession sample_accession secondary_sample_accession  \\\n",
       "0     E     L      PRJEB37886     SAMEA9132940                 ERS6847341   \n",
       "1     E     L      PRJEB37886     SAMEA9148402                 ERS6873131   \n",
       "2     E     L      PRJEB37886     SAMEA9202513                 ERS6927129   \n",
       "\n",
       "  experiment_accession run_accession instrument_platform     ena_country  \\\n",
       "0           ERX5658438    ERR6019078            ILLUMINA  United Kingdom   \n",
       "1           ERX5686029    ERR6047046            ILLUMINA  United Kingdom   \n",
       "2           ERX5695457    ERR6056590            ILLUMINA  United Kingdom   \n",
       "\n",
       "                                       submitted_ftp  read_count   base_count  \n",
       "0  ftp.sra.ebi.ac.uk/vol1/run/ERR601/ERR6019078/P...     96557.0   13320734.0  \n",
       "1  ftp.sra.ebi.ac.uk/vol1/run/ERR604/ERR6047046/H...   3430083.0  721453740.0  \n",
       "2  ftp.sra.ebi.ac.uk/vol1/run/ERR605/ERR6056590/Q...   1343069.0  282390969.0  "
      ]
     },
     "execution_count": 3,
     "metadata": {},
     "output_type": "execute_result"
    }
   ],
   "source": [
    "cog[:3]"
   ]
  },
  {
   "cell_type": "code",
   "execution_count": 4,
   "id": "beautiful-technical",
   "metadata": {},
   "outputs": [
    {
     "name": "stdout",
     "output_type": "stream",
     "text": [
      "This gives us 455352 COGUK samples with an ENA accession number\n",
      "There are 0 samples with no PANGO lineage and 169437 samples with no SCORPIO lineage\n"
     ]
    }
   ],
   "source": [
    "print(\"This gives us \"+str(len(cog))+\" COGUK samples with an ENA accession number\")\n",
    "\n",
    "print(\"There are \" +str(len(cog.loc[cog.lineage.isna()]))+\" samples with no PANGO lineage and \" +str(len(cog.loc[cog.scorpio_call.isna()]))+ \" samples with no SCORPIO lineage\")"
   ]
  },
  {
   "cell_type": "markdown",
   "id": "framed-lotus",
   "metadata": {},
   "source": [
    "Let's look at the `pango` lineages and `scorpio` constellations"
   ]
  },
  {
   "cell_type": "code",
   "execution_count": 5,
   "id": "promising-savannah",
   "metadata": {},
   "outputs": [
    {
     "data": {
      "text/plain": [
       "B.1.1.7      259517\n",
       "B.1.177       44385\n",
       "B.1.617.2     25225\n",
       "B.1.1         15033\n",
       "B.1            7655\n",
       "              ...  \n",
       "B.1.1.242         1\n",
       "B.1.349           1\n",
       "B.1.600           1\n",
       "C.36.3.1          1\n",
       "B.1.384           1\n",
       "Name: lineage, Length: 673, dtype: int64"
      ]
     },
     "execution_count": 5,
     "metadata": {},
     "output_type": "execute_result"
    }
   ],
   "source": [
    "cog.lineage.value_counts(dropna=False)"
   ]
  },
  {
   "cell_type": "code",
   "execution_count": 6,
   "id": "handmade-variation",
   "metadata": {},
   "outputs": [
    {
     "data": {
      "text/plain": [
       "Alpha (B.1.1.7-like)             257726\n",
       "NaN                              169437\n",
       "Delta (B.1.617.2-like)            25226\n",
       "Beta (B.1.351-like)                 931\n",
       "Eta (B.1.525-like)                  477\n",
       "B.1.617.1-like                      427\n",
       "B.1.1.318-like                      288\n",
       "B.1.1.7-like+E484K                  214\n",
       "Gamma (P.1-like)                    164\n",
       "AV.1-like                           145\n",
       "A.23.1-like                         106\n",
       "A.23.1-like+E484K                    63\n",
       "Zeta (P.2-like)                      55\n",
       "Delta (B.1.617.2-like) +K417N        43\n",
       "Iota (B.1.526-like)                  17\n",
       "B.1.617.3-like                       12\n",
       "Epsilon (B.1.427/429-like)           12\n",
       "Theta (P.3-like)                      7\n",
       "B.1.324.1-like                        2\n",
       "Name: scorpio_call, dtype: int64"
      ]
     },
     "execution_count": 6,
     "metadata": {},
     "output_type": "execute_result"
    }
   ],
   "source": [
    "cog.scorpio_call.value_counts(dropna=False)"
   ]
  },
  {
   "cell_type": "markdown",
   "id": "grateful-activation",
   "metadata": {},
   "source": [
    "What about the P.1 lineage?"
   ]
  },
  {
   "cell_type": "code",
   "execution_count": 7,
   "id": "frozen-manor",
   "metadata": {},
   "outputs": [
    {
     "data": {
      "text/plain": [
       "Gamma (P.1-like)    164\n",
       "Zeta (P.2-like)      55\n",
       "Theta (P.3-like)      7\n",
       "Name: scorpio_call, dtype: int64"
      ]
     },
     "execution_count": 7,
     "metadata": {},
     "output_type": "execute_result"
    }
   ],
   "source": [
    "cog.loc[cog.lineage.str[0]=='P'].scorpio_call.value_counts()"
   ]
  },
  {
   "cell_type": "markdown",
   "id": "mysterious-somewhere",
   "metadata": {},
   "source": [
    "And the newer Iota and Epsilon VUIs?"
   ]
  },
  {
   "cell_type": "code",
   "execution_count": 8,
   "id": "quality-solomon",
   "metadata": {},
   "outputs": [
    {
     "data": {
      "text/plain": [
       "B.1.526    17\n",
       "Name: lineage, dtype: int64"
      ]
     },
     "execution_count": 8,
     "metadata": {},
     "output_type": "execute_result"
    }
   ],
   "source": [
    "cog.loc[cog.scorpio_call=='Iota (B.1.526-like)'].lineage.value_counts()"
   ]
  },
  {
   "cell_type": "code",
   "execution_count": 9,
   "id": "desperate-terror",
   "metadata": {},
   "outputs": [
    {
     "data": {
      "text/plain": [
       "B.1.427/429    12\n",
       "Name: lineage, dtype: int64"
      ]
     },
     "execution_count": 9,
     "metadata": {},
     "output_type": "execute_result"
    }
   ],
   "source": [
    "cog.loc[cog.scorpio_call=='Epsilon (B.1.427/429-like)'].lineage.value_counts()"
   ]
  },
  {
   "cell_type": "markdown",
   "id": "spectacular-loading",
   "metadata": {},
   "source": [
    "# Logic for creating testset\n",
    "\n",
    "Let's arbitrarily choose the top 42 lineages, then add the others we want to sample and pick two samples from each.\n",
    "\n",
    "I've picked 48 since that will fit onto a single `VM.Standard2.24` compute shape in OCI\n",
    "\n",
    "This is all very arbitrary and can be changed!"
   ]
  },
  {
   "cell_type": "code",
   "execution_count": 10,
   "id": "laughing-cornell",
   "metadata": {},
   "outputs": [
    {
     "name": "stdout",
     "output_type": "stream",
     "text": [
      "['B.1.1.7', 'B.1.177', 'B.1.617.2', 'B.1.1', 'B.1', 'B.1.177.7', 'B.1.1.37', 'B.1.177.4', 'AD.2', 'B.1.177.57', 'B.1.1.311', 'B.1.258', 'B.1.1.369', 'B.1.160', 'B.40', 'B.1.36.17', 'B', 'B.1.1.1', 'B.1.177.15', 'B.1.177.65', 'B.1.177.16', 'B.1.177.54', 'B.1.177.56', 'B.1.177.8', 'B.1.177.87', 'B.1.1.372', 'B.1.177.17', 'B.1.177.10', 'B.1.177.6', 'B.1.93', 'B.1.1.279', 'B.1.1.301', 'B.1.177.5', 'B.1.177.18', 'B.1.391', 'B.1.351', 'W.4', 'B.1.177.9', 'B.1.389', 'B.1.177.58', 'B.1.177.19', 'B.1.177.20', 'P.1', 'P.2', 'P.3', 'B.1.526', 'B.1.427/429', 'None']\n"
     ]
    },
    {
     "data": {
      "text/plain": [
       "48"
      ]
     },
     "execution_count": 10,
     "metadata": {},
     "output_type": "execute_result"
    }
   ],
   "source": [
    "a=cog.lineage.value_counts()\n",
    "lineages_for_testset=list(a.loc[a>100][:42].index)\n",
    "lineages_for_testset.append('P.1')\n",
    "lineages_for_testset.append('P.2')\n",
    "lineages_for_testset.append('P.3')\n",
    "lineages_for_testset.append('B.1.526')\n",
    "lineages_for_testset.append('B.1.427/429')\n",
    "lineages_for_testset.append('None')\n",
    "print(lineages_for_testset)\n",
    "len(lineages_for_testset)\n"
   ]
  },
  {
   "cell_type": "markdown",
   "id": "induced-belgium",
   "metadata": {},
   "source": [
    "## Algorithm\n",
    "\n",
    "1. for a given lineage, randomly pick 10 samples (with replacement to deal with cases where there are fewer than 10 samples in that lineage)\n",
    "2. for each, make a set out of its mutations ($A_i$)\n",
    "3. for the samples stored to date, make a single set of all their collective mutations ($B$)\n",
    "4. by considering $B-A_i$ in turn, choose the sample which has the most mutations not already in $B$\n",
    "5. add to to the testset and repeat"
   ]
  },
  {
   "cell_type": "code",
   "execution_count": 11,
   "id": "dated-lithuania",
   "metadata": {},
   "outputs": [],
   "source": [
    "def create_diverse_testset(coguk_df,required_lineages,random_seed=42,samples_to_pick=50):\n",
    "\n",
    "    testset={}\n",
    "\n",
    "    # iterate through the list of pango lineages we wish to cover in the testset\n",
    "    for lineage in tqdm(lineages_for_testset):\n",
    "\n",
    "        # before we pick some new samples to consider, build the set of existing mutations\n",
    "        existing_mutations=set()    \n",
    "        for idx in testset:    \n",
    "            existing_mutations|=testset[idx]['mutations']\n",
    "\n",
    "        # now \n",
    "        df=copy.deepcopy(coguk_df.loc[(coguk_df.lineage==lineage)])\n",
    "\n",
    "        try:\n",
    "            random_samples=list(df.sample(n=samples_to_pick,random_state=random_seed,replace=True).index)\n",
    "        except:\n",
    "            print(\"No samples available for lineage \"+lineage)\n",
    "            continue \n",
    "        random_seed+=1\n",
    "\n",
    "        sample_set={}\n",
    "        additional_mutations=0\n",
    "        next_sample=None\n",
    "\n",
    "        for idx in random_samples:\n",
    "\n",
    "            del1=cog.loc[idx].del_1605_3\n",
    "            del2=cog.loc[idx].del_21765_6\n",
    "\n",
    "            mutations=set()\n",
    "\n",
    "            if del1=='X':\n",
    "                mutations|=set(['del_1605_3_X'])\n",
    "            elif del1=='del':\n",
    "                mutations|=set(['del_1605_3'])\n",
    "\n",
    "            if del2=='X':\n",
    "                mutations|=set(['del_21765_3_X'])\n",
    "            elif del2=='del':\n",
    "                mutations|=set(['del_21765_3'])\n",
    "\n",
    "            sample_set[idx]={}\n",
    "            if isinstance(cog.loc[idx].mutations,str):\n",
    "                mutations|=set(cog.loc[idx].mutations.split('|'))      \n",
    "\n",
    "            sample_set[idx]['mutations']=mutations\n",
    "            sample_set[idx]['pango_lineage']=cog.loc[idx].lineage\n",
    "            sample_set[idx]['scorpio_lineage']=cog.loc[idx].scorpio_call\n",
    "\n",
    "        next_sample=random_samples[0]\n",
    "\n",
    "        for idx in random_samples:    \n",
    "            if idx in sample_set.keys() and len(sample_set[idx]['mutations']-existing_mutations)> additional_mutations:\n",
    "                next_sample=idx\n",
    "                additional_mutations=len(sample_set[idx]['mutations']-existing_mutations)\n",
    "        try:\n",
    "            testset[next_sample]=sample_set[next_sample]        \n",
    "        except:\n",
    "            print(next_sample,sample_set)\n",
    "\n",
    "    muts=set()\n",
    "    for i in testset:\n",
    "        muts|=testset[i]['mutations']\n",
    "        \n",
    "    print(\"There are \"+str(len(testset))+\" samples in the testset with \"+str(len(muts))+\" unique mutations\")\n",
    "    \n",
    "    return(testset.keys())\n",
    "\n",
    "\n"
   ]
  },
  {
   "cell_type": "code",
   "execution_count": 12,
   "id": "acting-draft",
   "metadata": {},
   "outputs": [
    {
     "name": "stderr",
     "output_type": "stream",
     "text": [
      "100%|██████████| 48/48 [00:03<00:00, 14.20it/s]"
     ]
    },
    {
     "name": "stdout",
     "output_type": "stream",
     "text": [
      "No samples available for lineage P.3\n"
     ]
    },
    {
     "name": "stderr",
     "output_type": "stream",
     "text": [
      "\n"
     ]
    },
    {
     "name": "stdout",
     "output_type": "stream",
     "text": [
      "There are 47 samples in the testset with 622 unique mutations\n"
     ]
    }
   ],
   "source": [
    "df=copy.deepcopy(cog.loc[(cog.instrument_platform=='OXFORD_NANOPORE')])\n",
    "\n",
    "samples=create_diverse_testset(df,lineages_for_testset)\n",
    "\n",
    "nanopore_testset=cog.loc[samples]\n",
    "\n",
    "nanopore_testset.to_csv('cog-testset-genetically-diverse-'+str(len(nanopore_testset))+'samples-nanopore-v0.1.csv.gz')\n",
    "\n",
    "nanopore_testset['bucket']='ena'\n",
    "\n",
    "nanopore_testset[['bucket','run_accession']].to_csv('sp3-testset-genetically-diverse-'+str(len(nanopore_testset))+'samples-nanopore-v0.1.csv',index=False,header=False)"
   ]
  },
  {
   "cell_type": "code",
   "execution_count": 13,
   "id": "political-performer",
   "metadata": {},
   "outputs": [
    {
     "name": "stderr",
     "output_type": "stream",
     "text": [
      "100%|██████████| 48/48 [00:04<00:00,  9.77it/s]"
     ]
    },
    {
     "name": "stdout",
     "output_type": "stream",
     "text": [
      "There are 48 samples in the testset with 701 unique mutations\n"
     ]
    },
    {
     "name": "stderr",
     "output_type": "stream",
     "text": [
      "\n"
     ]
    }
   ],
   "source": [
    "df=copy.deepcopy(cog.loc[(cog.instrument_platform=='ILLUMINA')])\n",
    "\n",
    "samples=create_diverse_testset(df,lineages_for_testset)\n",
    "\n",
    "illumina_testset=cog.loc[samples]\n",
    "\n",
    "illumina_testset.to_csv('cog-testset-genetically-diverse-'+str(len(illumina_testset))+'samples-illumina-v0.1.csv.gz')\n",
    "\n",
    "illumina_testset['bucket']='ena'\n",
    "\n",
    "illumina_testset[['bucket','run_accession']].to_csv('sp3-testset-genetically-diverse-'+str(len(illumina_testset))+'samples-illumina-v0.1.csv',\\\n",
    "                                                    index=False,header=False)"
   ]
  }
 ],
 "metadata": {
  "kernelspec": {
   "display_name": "Python 3",
   "language": "python",
   "name": "python3"
  },
  "language_info": {
   "codemirror_mode": {
    "name": "ipython",
    "version": 3
   },
   "file_extension": ".py",
   "mimetype": "text/x-python",
   "name": "python",
   "nbconvert_exporter": "python",
   "pygments_lexer": "ipython3",
   "version": "3.8.8"
  }
 },
 "nbformat": 4,
 "nbformat_minor": 5
}
